{
 "cells": [
  {
   "cell_type": "markdown",
   "id": "503917cc-d70d-45cb-85ff-8a9d46fa12d3",
   "metadata": {},
   "source": [
    "# Frequency of Powerball Numbers (beginning in 2010)\n",
    "\n",
    "## Abby Lloyd\n",
    "\n",
    "## Description:\n",
    "\n",
    "This project loads a Kaggle data set, explores and cleans the data, and creates a function that visualizes an artist's most top 10 popular regions.\n",
    "\n",
    "## Skills Demonstrated:\n",
    "\n",
    "- Data Exploration with Pandas\n",
    "- Data Visualization\n",
    "- Data Cleaning\n",
    "\n",
    "## Github Link: https://github.com/abbylloyd03/Portfolio"
   ]
  },
  {
   "cell_type": "markdown",
   "id": "6b0c9391-df1a-4600-b081-4b13e71b5cf6",
   "metadata": {},
   "source": [
    "## Section 1: Load Packages / Import Data "
   ]
  },
  {
   "cell_type": "code",
   "execution_count": 1,
   "id": "11c20024-4e1c-48eb-b4b7-02503ef9ebd1",
   "metadata": {},
   "outputs": [],
   "source": [
    "import pandas as pd\n",
    "\n",
    "lottery1 = pd.read_csv('lottery-powerball-winning-numbers-beginning-2010-1.csv', \n",
    "                      names=['date', 'winning_numbers', 'multiplier'], header=0)"
   ]
  },
  {
   "cell_type": "markdown",
   "id": "644fc2d3-0373-4905-8454-81862e980630",
   "metadata": {},
   "source": [
    "## Section 2: Explore Data"
   ]
  },
  {
   "cell_type": "markdown",
   "id": "caccd84c-f0e5-4768-a1df-72ef6b5f51b2",
   "metadata": {},
   "source": [
    "### Visualize most common multiplier"
   ]
  },
  {
   "cell_type": "code",
   "execution_count": 2,
   "id": "2953cf1b-0b61-4167-a275-74b8bc5d515c",
   "metadata": {},
   "outputs": [
    {
     "data": {
      "text/plain": [
       "array([[<AxesSubplot:title={'center':'multiplier'}>]], dtype=object)"
      ]
     },
     "execution_count": 2,
     "metadata": {},
     "output_type": "execute_result"
    },
    {
     "data": {
      "image/png": "[encoded data removed]",
      "text/plain": [
       "<Figure size 432x288 with 1 Axes>"
      ]
     },
     "metadata": {
      "needs_background": "light"
     },
     "output_type": "display_data"
    }
   ],
   "source": [
    "lottery1.hist('multiplier')"
   ]
  },
  {
   "cell_type": "markdown",
   "id": "833c19de-6049-47e0-9902-852d9f6b537a",
   "metadata": {},
   "source": [
    "### Separate powerball from other winning numbers"
   ]
  },
  {
   "cell_type": "code",
   "execution_count": 3,
   "id": "438e2a25-ac5f-4fe0-9882-8da49fe35c28",
   "metadata": {},
   "outputs": [
    {
     "data": {
      "text/plain": [
       "0     24\n",
       "1     22\n",
       "2     19\n",
       "3     12\n",
       "4     25\n",
       "Name: powerball, dtype: object"
      ]
     },
     "execution_count": 3,
     "metadata": {},
     "output_type": "execute_result"
    }
   ],
   "source": [
    "lottery1['powerball'] = lottery1['winning_numbers'].map(lambda x: str(x)[-3:])\n",
    "\n",
    "lottery1['powerball'].head()"
   ]
  },
  {
   "cell_type": "markdown",
   "id": "d920af8c-b679-43eb-ab02-e88d959ea010",
   "metadata": {},
   "source": [
    "### Which powerball is most frequent??"
   ]
  },
  {
   "cell_type": "code",
   "execution_count": 4,
   "id": "1de4914d-82a2-4524-8d86-39bc252799a3",
   "metadata": {},
   "outputs": [
    {
     "data": {
      "text/plain": [
       " 24    40\n",
       " 25    34\n",
       " 15    34\n",
       " 19    32\n",
       " 17    32\n",
       " 07    32\n",
       " 12    31\n",
       " 13    31\n",
       " 11    31\n",
       " 20    30\n",
       " 06    30\n",
       " 08    30\n",
       " 05    29\n",
       " 22    29\n",
       " 18    29\n",
       " 09    29\n",
       " 16    29\n",
       " 10    29\n",
       " 26    28\n",
       " 29    27\n",
       " 01    26\n",
       " 23    26\n",
       " 03    25\n",
       " 21    25\n",
       " 04    24\n",
       " 02    24\n",
       " 33    22\n",
       " 14    21\n",
       " 27    19\n",
       " 32    16\n",
       " 35    15\n",
       " 30    15\n",
       " 28    14\n",
       " 34    13\n",
       " 31    11\n",
       " 36     7\n",
       " 39     6\n",
       " 38     5\n",
       " 37     3\n",
       "Name: powerball, dtype: int64"
      ]
     },
     "execution_count": 4,
     "metadata": {},
     "output_type": "execute_result"
    }
   ],
   "source": [
    "lottery1['powerball'].value_counts()"
   ]
  },
  {
   "cell_type": "markdown",
   "id": "50e0dca2-99ec-45fa-b084-bbaedefdfb79",
   "metadata": {},
   "source": [
    "### Remove powerball from other winning numbers"
   ]
  },
  {
   "cell_type": "code",
   "execution_count": 5,
   "id": "a3e6a542-2a0d-4c30-9294-d6de9a1495fb",
   "metadata": {},
   "outputs": [
    {
     "data": {
      "text/html": [
       "<div>\n",
       "<style scoped>\n",
       "    .dataframe tbody tr th:only-of-type {\n",
       "        vertical-align: middle;\n",
       "    }\n",
       "\n",
       "    .dataframe tbody tr th {\n",
       "        vertical-align: top;\n",
       "    }\n",
       "\n",
       "    .dataframe thead th {\n",
       "        text-align: right;\n",
       "    }\n",
       "</style>\n",
       "<table border=\"1\" class=\"dataframe\">\n",
       "  <thead>\n",
       "    <tr style=\"text-align: right;\">\n",
       "      <th></th>\n",
       "      <th>date</th>\n",
       "      <th>winning_numbers</th>\n",
       "      <th>multiplier</th>\n",
       "      <th>powerball</th>\n",
       "    </tr>\n",
       "  </thead>\n",
       "  <tbody>\n",
       "    <tr>\n",
       "      <th>0</th>\n",
       "      <td>01/12/2019</td>\n",
       "      <td>07 36 48 57 58</td>\n",
       "      <td>2.0</td>\n",
       "      <td>24</td>\n",
       "    </tr>\n",
       "    <tr>\n",
       "      <th>1</th>\n",
       "      <td>01/09/2019</td>\n",
       "      <td>06 19 37 49 59</td>\n",
       "      <td>3.0</td>\n",
       "      <td>22</td>\n",
       "    </tr>\n",
       "    <tr>\n",
       "      <th>2</th>\n",
       "      <td>01/05/2019</td>\n",
       "      <td>03 07 15 27 69</td>\n",
       "      <td>2.0</td>\n",
       "      <td>19</td>\n",
       "    </tr>\n",
       "    <tr>\n",
       "      <th>3</th>\n",
       "      <td>01/02/2019</td>\n",
       "      <td>08 12 42 46 56</td>\n",
       "      <td>2.0</td>\n",
       "      <td>12</td>\n",
       "    </tr>\n",
       "    <tr>\n",
       "      <th>4</th>\n",
       "      <td>12/29/2018</td>\n",
       "      <td>12 42 51 53 62</td>\n",
       "      <td>2.0</td>\n",
       "      <td>25</td>\n",
       "    </tr>\n",
       "  </tbody>\n",
       "</table>\n",
       "</div>"
      ],
      "text/plain": [
       "         date  winning_numbers  multiplier powerball\n",
       "0  01/12/2019  07 36 48 57 58          2.0        24\n",
       "1  01/09/2019  06 19 37 49 59          3.0        22\n",
       "2  01/05/2019  03 07 15 27 69          2.0        19\n",
       "3  01/02/2019  08 12 42 46 56          2.0        12\n",
       "4  12/29/2018  12 42 51 53 62          2.0        25"
      ]
     },
     "execution_count": 5,
     "metadata": {},
     "output_type": "execute_result"
    }
   ],
   "source": [
    "lottery1['winning_numbers'] = lottery1['winning_numbers'].map(lambda x: str(x)[:-2])\n",
    "\n",
    "lottery1.head()"
   ]
  },
  {
   "cell_type": "markdown",
   "id": "5228cedf-1ccc-40eb-b91a-64dd0820d6bd",
   "metadata": {},
   "source": [
    "### Split winning numbers and create a new df with just the first 5 winning numbers"
   ]
  },
  {
   "cell_type": "code",
   "execution_count": 6,
   "id": "294d9c88-329b-4de1-a912-329c429659cb",
   "metadata": {},
   "outputs": [],
   "source": [
    "lottery1 = lottery1['winning_numbers'].str.split(' ', expand=False)\n",
    "\n",
    "winning_numbers = lottery1.explode('winning_numbers')"
   ]
  },
  {
   "cell_type": "code",
   "execution_count": 7,
   "id": "e35e2444-6bd4-4cdb-a91b-6cf597843786",
   "metadata": {},
   "outputs": [
    {
     "data": {
      "text/plain": [
       "0    07\n",
       "1    36\n",
       "2    48\n",
       "3    57\n",
       "4    58\n",
       "Name: winning_numbers, dtype: object"
      ]
     },
     "execution_count": 7,
     "metadata": {},
     "output_type": "execute_result"
    }
   ],
   "source": [
    "winning_numbers.head()"
   ]
  },
  {
   "cell_type": "code",
   "execution_count": 8,
   "id": "bcc98afc-ead3-488b-8714-cd8f813f4af8",
   "metadata": {},
   "outputs": [
    {
     "data": {
      "text/plain": [
       "count     5598\n",
       "unique      70\n",
       "top           \n",
       "freq       933\n",
       "Name: winning_numbers, dtype: object"
      ]
     },
     "execution_count": 8,
     "metadata": {},
     "output_type": "execute_result"
    }
   ],
   "source": [
    "winning_numbers.describe()"
   ]
  },
  {
   "cell_type": "markdown",
   "id": "62924831-4c95-4a7a-84de-3e45beb113e9",
   "metadata": {},
   "source": [
    "### Which winning numbers are most frequent??"
   ]
  },
  {
   "cell_type": "code",
   "execution_count": 9,
   "id": "5358e4fb-5a58-4cbb-b891-5362cef51e29",
   "metadata": {},
   "outputs": [
    {
     "name": "stdout",
     "output_type": "stream",
     "text": [
      "      933\n",
      "28     92\n",
      "23     91\n",
      "41     88\n",
      "32     86\n",
      "54     85\n",
      "52     84\n",
      "10     84\n",
      "11     83\n",
      "12     83\n",
      "39     82\n",
      "14     80\n",
      "20     80\n",
      "07     80\n",
      "45     80\n",
      "22     80\n",
      "59     79\n",
      "17     79\n",
      "40     79\n",
      "13     79\n",
      "03     78\n",
      "16     78\n",
      "09     78\n",
      "36     78\n",
      "19     77\n",
      "08     76\n",
      "57     76\n",
      "55     75\n",
      "49     75\n",
      "56     73\n",
      "44     73\n",
      "25     73\n",
      "24     72\n",
      "38     72\n",
      "31     72\n",
      "05     72\n",
      "48     72\n",
      "01     72\n",
      "30     71\n",
      "29     71\n",
      "53     71\n",
      "27     70\n",
      "47     70\n",
      "21     70\n",
      "50     70\n",
      "58     70\n",
      "33     69\n",
      "18     69\n",
      "51     68\n",
      "37     67\n",
      "42     67\n",
      "04     66\n",
      "34     65\n",
      "02     64\n",
      "43     64\n",
      "26     64\n",
      "46     64\n",
      "06     63\n",
      "15     61\n",
      "35     53\n",
      "64     38\n",
      "69     38\n",
      "61     34\n",
      "62     32\n",
      "63     31\n",
      "68     26\n",
      "67     24\n",
      "66     23\n",
      "60     19\n",
      "65     17\n",
      "Name: winning_numbers, dtype: int64\n"
     ]
    }
   ],
   "source": [
    "with pd.option_context('display.max_rows', None,):\n",
    "   print(winning_numbers.value_counts())"
   ]
  },
  {
   "cell_type": "markdown",
   "id": "25805435-175d-414f-9147-ecdc470418a4",
   "metadata": {},
   "source": [
    "### *On October 4, 2015, Powerball added more balls to choose from, so numbers 60 and above appear less frequently."
   ]
  }
 ],
 "metadata": {
  "kernelspec": {
   "display_name": "Python 3 (ipykernel)",
   "language": "python",
   "name": "python3"
  },
  "language_info": {
   "codemirror_mode": {
    "name": "ipython",
    "version": 3
   },
   "file_extension": ".py",
   "mimetype": "text/x-python",
   "name": "python",
   "nbconvert_exporter": "python",
   "pygments_lexer": "ipython3",
   "version": "3.10.6"
  }
 },
 "nbformat": 4,
 "nbformat_minor": 5
}
