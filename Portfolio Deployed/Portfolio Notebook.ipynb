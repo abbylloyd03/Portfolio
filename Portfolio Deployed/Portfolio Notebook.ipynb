{
 "cells": [
  {
   "cell_type": "markdown",
   "id": "07eaf035-9b3d-4bd3-9f75-ef38da54d0cc",
   "metadata": {},
   "source": [
    "# Abby Lloyd: Data Analytics Portfolio\n",
    "\n",
    "## Graduate Student - Data Analytics (Expected Graduation Summer 2023)\n",
    "## Northwest Missouri State University\n",
    "\n",
    "## Contact Info:\n",
    "\n",
    "- **Email:** abbylloyd03@gmail.com\n",
    "- **Github:** https://github.com/abbylloyd03\n",
    "- **LinkedIn:** https://www.linkedin.com/in/abby-lloyd-4a0b11183/"
   ]
  },
  {
   "cell_type": "markdown",
   "id": "684ebd0b-35e2-4b91-b9b0-c10f7c6492cf",
   "metadata": {},
   "source": [
    "# Projects:\n",
    "\n",
    "### Data Exploration:\n",
    "- Spotify Top Charts: https://abbylloyd03.github.io/Spotify-HTML-Deployed/\n",
    "- Poweball Numbers: https://abbylloyd03.github.io/Powerball_HTML_Deployed/\n",
    "\n",
    "### Web Mining & NLP:\n",
    "- Article Summarizer: https://abbylloyd03.github.io/Article-Summarizer-HTML-Deployed/\n",
    "\n",
    "### Machine Learning:\n",
    "- Coming Soon!\n",
    "\n",
    "### SQL\n",
    "- Coming Soon!"
   ]
  }
 ],
 "metadata": {
  "kernelspec": {
   "display_name": "Python 3 (ipykernel)",
   "language": "python",
   "name": "python3"
  },
  "language_info": {
   "codemirror_mode": {
    "name": "ipython",
    "version": 3
   },
   "file_extension": ".py",
   "mimetype": "text/x-python",
   "name": "python",
   "nbconvert_exporter": "python",
   "pygments_lexer": "ipython3",
   "version": "3.9.7"
  }
 },
 "nbformat": 4,
 "nbformat_minor": 5
}
