{
 "cells": [
  {
   "cell_type": "markdown",
   "metadata": {},
   "source": [
    "# Article Summarizer & Sentiment Analysis\n",
    "## Abby Lloyd\n",
    "\n",
    "### Description: \n",
    "- This project scrapes reviews of two movies, creates a summarized review for each movie, and performs sentiment analysis on the summarized reviews. The summaries and results of the sentiment analysis are then presented for comparison.\n",
    "\n",
    "### Skills Demonstrated:\n",
    "- Web Mining (Requests, Beautiful Soup)\n",
    "- NLP (SpaCy)\n",
    "- Python Coding\n",
    "- Matplotlib Visualizations\n",
    "\n",
    "### Github Link: https://github.com/abbylloyd03/Portfolio"
   ]
  },
  {
   "cell_type": "markdown",
   "metadata": {},
   "source": [
    "#  -------- Section 1 ----------\n",
    "\n",
    "**Goals:**\n",
    "- Mine text from first webpage & read in source HTML\n",
    "- Perform sentiment analysis on entire webpage for later reference\n",
    "- Determine how many sentences are in article. This will help determine how many sentences should be in the summary.\n",
    "\n",
    "**Warning:** The webpage used for this analysis constantly changes. As the webpage changes, the results of this project will change, and the analysis may no longer be accurate.\n",
    "\n",
    "**Webpage:** https://www.rottentomatoes.com/m/black_panther_wakanda_forever/reviews"
   ]
  },
  {
   "cell_type": "markdown",
   "metadata": {},
   "source": [
    "### Step 1: Import necessary packages"
   ]
  },
  {
   "cell_type": "code",
   "execution_count": 1,
   "metadata": {},
   "outputs": [],
   "source": [
    "import requests\n",
    "import pickle\n",
    "from bs4 import BeautifulSoup\n",
    "import spacy\n",
    "from spacytextblob.spacytextblob import SpacyTextBlob\n",
    "from collections import Counter\n",
    "import matplotlib as mpl\n",
    "import matplotlib.pyplot as plt\n",
    "import numpy as np"
   ]
  },
  {
   "cell_type": "markdown",
   "metadata": {},
   "source": [
    "### Step 2: Get HTML from webpage and dump into pickle file"
   ]
  },
  {
   "cell_type": "code",
   "execution_count": 2,
   "metadata": {},
   "outputs": [],
   "source": [
    "article_page = requests.get('https://www.rottentomatoes.com/m/black_panther_wakanda_forever/reviews')\n",
    "article_html = article_page.text\n",
    "\n",
    "with open('article_html.pkl', 'wb') as f:\n",
    "    pickle.dump(article_page.text, f)"
   ]
  },
  {
   "cell_type": "markdown",
   "metadata": {},
   "source": [
    "2. Read in your article's html source from the file you created in question 1 and do sentiment analysis on the article/post's text (use `.get_text()`).  Print the polarity score with an appropriate label.  Additionally print the number of sentences in the original article (with an appropriate label)"
   ]
  },
  {
   "cell_type": "markdown",
   "metadata": {},
   "source": [
    "### Step 3: Read in source HTML "
   ]
  },
  {
   "cell_type": "code",
   "execution_count": 3,
   "metadata": {},
   "outputs": [],
   "source": [
    "with open('article_html.pkl', 'rb') as f:\n",
    "    article_html = pickle.load(f)\n",
    "\n",
    "soup = BeautifulSoup(article_html, 'html5lib')\n",
    "\n",
    "# Find the reviews from the article. (This is the only part of the article I am interested in.)\n",
    "\n",
    "article_content = soup.find_all('div', {'class': 'the_review'})\n",
    "\n",
    "# Combine all the reviews into one string and get rid of tags\n",
    "\n",
    "article_content_string = ' '.join([item.text for item in article_content])"
   ]
  },
  {
   "cell_type": "markdown",
   "metadata": {},
   "source": [
    "### Step 4: Check work"
   ]
  },
  {
   "cell_type": "code",
   "execution_count": 4,
   "metadata": {},
   "outputs": [
    {
     "name": "stdout",
     "output_type": "stream",
     "text": [
      "\n",
      "                    A moving and entertaining superhero action movie that forges a bright new path for the Black Panther legacy. It’s the follow-up that fans needed. \n",
      "                 \n",
      "                    There is indeed a  smattering of the character development. No doubt all abustle, some critics just understandably might’ve missed the transmogrifications. (Hint: Look for someone putting on a mask and another going all hue-y.)\n",
      "                 \n",
      "                    It’s generally well-paced and features an excellent lead performance from Wright and an Oscar-worthy performance from Bassett. For a movie with a complicated hole to dig itself out of, this sequel rises victorious.\n",
      "                 \n",
      "                    Kind of a mixed bag, but worth seeing if you liked the first one. \n",
      "                 \n",
      "                    This film, leading into phase five, makes it as symbolic as it is impactful. It expands the MCU’s diversity through sheer authenticity.\n",
      "                 \n",
      "                    Like the first Black Panther movie, Black Panther: Wakanda Forever asks us to consider why and when vengeance is futile, and what the difference is between an antihero and an anti villain.\n",
      "                 \n",
      "                    Not only is it a powerful tribute to a star whose screen presence could never be duplicated; it also points the way forward for Marvel, positing a future where the formula can be bent in directions that don't always dutifully fill a mold...\n",
      "                 \n",
      "                    Wakanda Forever is best as a love letter to a fallen friend, and as a kind of conduit for public grief.\n",
      "                 \n",
      "                    In the end, Wakanda Forever is about a choice. Do you rage? Or do you accept and let go. Saying farewell without forgetting.  Moving on.  That Coogler managed to embed that in a Marvel movie is a minor miracle and fitting tribute to the talent we lost. \n",
      "                 \n",
      "                    While suffering from exhausting connections to the ever-expanding Marvel Cinematic Universe, Black Panther: Wakanda Forever is an emotional tribute to Chadwick Boseman, with an exploration of grief easily capable of reaching the audience’s heart. \n",
      "                 \n",
      "                    A palpable low point for the Marvel Cinematic Universe...\n",
      "                 \n",
      "                    Finally breaking the tyranny of the superhero blockbuster structure, filmmaker Ryan Coogler makes an unusually affecting sequel that takes a darker and far more emotional approach to storytelling.\n",
      "                 \n",
      "                    You may not be ready for everything that Black Panther is going to throw at you. It is unapologetically Black, African, colorful, and poignant.\n",
      "                 \n",
      "                    ...the positive side, the performances are strong and the visual effects are outstanding.  But great effects do not always a great movie make (I’m looking at you, “Avatar”) and the humanity that Boseman brought to the title character is greatly missed.  \n",
      "                 \n",
      "                    his film could have been tone-deaf or insensitive. It could have simply not existed at all. The fact that it does exist and is a solid cinematic experience is, on its face, fairly miraculous.\n",
      "                 \n",
      "                    Overall, the film is solid with a few passages worth going to the theater for. [Full review in Spanish] \n",
      "                 \n",
      "                    Angela Bassett and Letitia Wright are stand outs as audiences can feel the pain they are going through from losing their beloved star and friend.\n",
      "                 \n",
      "                    Feels overstuffed, filled with interesting ideas and possibilities that never fully come into focus. \n",
      "                 \n",
      "                    You can still see the bones of the original concept, poking jaggedly through the flesh of the story, and meshing not at all with the new material about grieving and coming to grips with loss.\n",
      "                 \n",
      "                    This is a great film that does have it's flaws, specifically its length. This was a heavy film that has a lot of deep meaning and themes that might go over the general audience's head. The performances and costumes were fantastic. \n",
      "                \n"
     ]
    }
   ],
   "source": [
    "print(article_content_string)"
   ]
  },
  {
   "cell_type": "markdown",
   "metadata": {},
   "source": [
    "### Step 5: Perform sentiment analysis on entire article\n",
    "- This will be compared with the sentiment analysis of the summary of the article, which will be produced later"
   ]
  },
  {
   "cell_type": "code",
   "execution_count": 5,
   "metadata": {},
   "outputs": [
    {
     "name": "stdout",
     "output_type": "stream",
     "text": [
      "Polarity: 0.17849099099099106\n"
     ]
    }
   ],
   "source": [
    "# Sentiment analysis\n",
    "\n",
    "nlp = spacy.load('en_core_web_sm')\n",
    "nlp.add_pipe('spacytextblob')\n",
    "doc = nlp(article_content_string)\n",
    "print(f'Polarity: {doc._.polarity}')"
   ]
  },
  {
   "cell_type": "markdown",
   "metadata": {},
   "source": [
    "### Step 6: Determine how many sentences are in article"
   ]
  },
  {
   "cell_type": "code",
   "execution_count": 6,
   "metadata": {},
   "outputs": [
    {
     "name": "stdout",
     "output_type": "stream",
     "text": [
      "Number of sentences: 38\n"
     ]
    }
   ],
   "source": [
    "sentences = list(doc.sents)\n",
    "sentences_no_blanks = [str(x).strip() for x in sentences if str(x) != '']\n",
    "num_of_sents = len(sentences_no_blanks)\n",
    "print('Number of sentences:', num_of_sents)"
   ]
  },
  {
   "cell_type": "markdown",
   "metadata": {},
   "source": [
    "# -------- Section 2 ----------\n",
    "\n",
    "**Goals:**\n",
    "- Load article into trained spaCy pipeline\n",
    "- Determine 5 most frequent tokens\n",
    "- Determine 5 most frequent lemmas\n",
    "- Determine how often the 5 most of frequent tokens occur in each sentence. Make a histogram showing results.\n",
    "- Determine how often the 5 most of frequent lemmas occur in each sentence. Make a histogram showing results.\n",
    "- Determine \"cutoff\" score for sentence inclusion in summary."
   ]
  },
  {
   "cell_type": "markdown",
   "metadata": {},
   "source": [
    "3. Load the article text into a trained `spaCy` pipeline, and determine the 5 most frequent tokens (converted to lower case).  Print the common tokens with an appropriate label.  Additionally, print the tokens their frequencies (with appropriate labels)"
   ]
  },
  {
   "cell_type": "markdown",
   "metadata": {
    "tags": []
   },
   "source": [
    "### Step 1: Load article text into trained spaCy pipeline"
   ]
  },
  {
   "cell_type": "code",
   "execution_count": 7,
   "metadata": {},
   "outputs": [],
   "source": [
    "nlp = spacy.load('en_core_web_sm')\n",
    "doc = nlp(article_content_string)"
   ]
  },
  {
   "cell_type": "markdown",
   "metadata": {},
   "source": [
    "### Step 2: Determine 5 most frequent tokens"
   ]
  },
  {
   "cell_type": "code",
   "execution_count": 8,
   "metadata": {},
   "outputs": [
    {
     "name": "stdout",
     "output_type": "stream",
     "text": [
      "Five most frequent tokens: [('black', 6), ('movie', 5), ('panther', 5), ('film', 5), ('going', 4)]\n"
     ]
    }
   ],
   "source": [
    "# Add the movie title and other words I am not interested into the list of stop words\n",
    "# nlp.Defaults.stop_words |= {'black', 'panther', 'wakanda', 'forever', 'movie', 'film'}\n",
    "# I didn't like the summary, so I went back to the original stop words\n",
    "\n",
    "\n",
    "# Remove whitespace, punctuation, and stopword tokens\n",
    "# Convert all letters to lowercase\n",
    "\n",
    "def we_care_about(token):\n",
    "    return not (token.is_space or token.is_punct or token.is_stop)\n",
    "\n",
    "interesting_tokens = [token.lower_ for token in doc if we_care_about(token)]\n",
    "\n",
    "# Count & print token frequency\n",
    "\n",
    "word_freq = Counter(map(str,interesting_tokens))\n",
    "print('Five most frequent tokens:', word_freq.most_common(5))"
   ]
  },
  {
   "cell_type": "markdown",
   "metadata": {},
   "source": [
    "### Step 3: Determine 5 most frequent lemmas"
   ]
  },
  {
   "cell_type": "code",
   "execution_count": 9,
   "metadata": {},
   "outputs": [
    {
     "name": "stdout",
     "output_type": "stream",
     "text": [
      "Five most frequent lemmas: [('black', 6), ('movie', 5), ('panther', 5), ('film', 5), ('go', 4)]\n"
     ]
    }
   ],
   "source": [
    "# Lemmatization\n",
    "# Convert all letters to lowercase\n",
    "\n",
    "interesting_lemmas = [token.lemma_.lower() for token in doc if we_care_about(token)]\n",
    "\n",
    "# Count & print lemma frequency\n",
    "\n",
    "lemma_freq = Counter(interesting_lemmas)\n",
    "print('Five most frequent lemmas:', lemma_freq.most_common(5))"
   ]
  },
  {
   "cell_type": "markdown",
   "metadata": {
    "tags": []
   },
   "source": [
    "### Step 4: Make histogram. How often do the most frequent tokens occur per sentence?"
   ]
  },
  {
   "cell_type": "code",
   "execution_count": 10,
   "metadata": {},
   "outputs": [
    {
     "data": {
      "text/plain": [
       "[<matplotlib.axis.XTick at 0x7f84ce94ffd0>,\n",
       " <matplotlib.axis.XTick at 0x7f84ce94fd90>,\n",
       " <matplotlib.axis.XTick at 0x7f84ce94fca0>,\n",
       " <matplotlib.axis.XTick at 0x7f84ccb96a40>,\n",
       " <matplotlib.axis.XTick at 0x7f84ccb977c0>,\n",
       " <matplotlib.axis.XTick at 0x7f84ccb95210>]"
      ]
     },
     "execution_count": 10,
     "metadata": {},
     "output_type": "execute_result"
    },
    {
     "data": {
      "image/png": "[encoded data removed]",
      "text/plain": [
       "<Figure size 1000x700 with 1 Axes>"
      ]
     },
     "metadata": {},
     "output_type": "display_data"
    }
   ],
   "source": [
    "# Make a list (x) of token counts per sentence. This will be used for the histogram.\n",
    "\n",
    "def score_sentence_by_token_for_histogram(sentences, interesting_token):\n",
    "    list = []\n",
    "    unpacked_tokens = set()\n",
    "    for token, freq in interesting_token:\n",
    "        unpacked_tokens.add(token)\n",
    "    for sentence in sentences:\n",
    "        count = 0\n",
    "        for token in sentence:\n",
    "            if token.lower_ in unpacked_tokens:\n",
    "                count += 1\n",
    "        list.append(count)\n",
    "    return list\n",
    "\n",
    "x = score_sentence_by_token_for_histogram(sentences, word_freq.most_common(5))\n",
    "\n",
    "# Create plot\n",
    "\n",
    "fig, ax = plt.subplots(figsize =(10, 7))\n",
    "n_bins = max(x)\n",
    "ax.hist(x, n_bins)\n",
    "\n",
    "# Set title\n",
    "ax.set_title('Histogram: Frequency of occurances of most important tokens within sentence.')\n",
    "  \n",
    "# adding labels\n",
    "ax.set_xlabel('Number of occurances of tokens within sentence')\n",
    "ax.set_ylabel('Frequency: Sentences that contain [x] occurances of tokens')\n",
    "ax.set_xticks([0, 1, 2, 3, 4, 5])"
   ]
  },
  {
   "cell_type": "markdown",
   "metadata": {},
   "source": [
    "### Step 5: Analyze Results\n",
    "- Most sentences in the article have 0-1 occurances of the most frequent tokens.\n",
    "- It is less common for sentences to have 2-4 occurances of the most frequent tokens."
   ]
  },
  {
   "cell_type": "markdown",
   "metadata": {},
   "source": [
    "### Step 6: Make another histogram. How often do the most frequent lemmas occur per sentence?"
   ]
  },
  {
   "cell_type": "code",
   "execution_count": 16,
   "metadata": {},
   "outputs": [
    {
     "data": {
      "text/plain": [
       "[<matplotlib.axis.XTick at 0x7f84d1b66890>,\n",
       " <matplotlib.axis.XTick at 0x7f84d1b663b0>,\n",
       " <matplotlib.axis.XTick at 0x7f84d1b656f0>,\n",
       " <matplotlib.axis.XTick at 0x7f84cf6fdb10>,\n",
       " <matplotlib.axis.XTick at 0x7f84cf6fec50>,\n",
       " <matplotlib.axis.XTick at 0x7f84cf6feb90>]"
      ]
     },
     "execution_count": 16,
     "metadata": {},
     "output_type": "execute_result"
    },
    {
     "data": {
      "image/png": "[encoded data removed]",
      "text/plain": [
       "<Figure size 1000x700 with 1 Axes>"
      ]
     },
     "metadata": {},
     "output_type": "display_data"
    }
   ],
   "source": [
    "# Make a list of lemma counts per sentence (x) for histogram\n",
    "\n",
    "def score_sentence_by_lemma_for_histogram(sentences, interesting_lemmas):\n",
    "    list = []\n",
    "    unpacked_lemmas = set()\n",
    "    for lemma, freq in interesting_lemmas:\n",
    "        unpacked_lemmas.add(lemma)\n",
    "    for sentence in sentences:\n",
    "        count = 0\n",
    "        for token in sentence:\n",
    "            if token.lemma_.lower() in unpacked_lemmas:\n",
    "                count += 1\n",
    "        list.append(count)\n",
    "    return list\n",
    "\n",
    "\n",
    "x = score_sentence_by_lemma_for_histogram(sentences, lemma_freq.most_common(5))\n",
    "\n",
    "# Create plot\n",
    "\n",
    "fig, ax = plt.subplots(figsize =(10, 7))\n",
    "n_bins = max(x)\n",
    "ax.hist(x, n_bins)\n",
    "\n",
    "# Set title\n",
    "ax.set_title(\"Histogram: Frequency of occurances of most important lemmas within sentence.\")\n",
    "  \n",
    "# adding labels\n",
    "ax.set_xlabel('Number of occurances of lemmas within sentence')\n",
    "ax.set_ylabel('Frequency: Sentences that contain [x] occurances of tokens')\n",
    "ax.set_xticks([0, 1, 2, 3, 4, 5])"
   ]
  },
  {
   "cell_type": "markdown",
   "metadata": {},
   "source": [
    "### Step 7: Analysis\n",
    "- There appears to be only a small difference between using tokens and lemmas in relation to frequency\n",
    "- A good 'cutoff' score for including the sentence in the summary would be 1. Sentences with more than 1 occurance of the most frequent tokens/lemmas will be included in summary of article."
   ]
  },
  {
   "cell_type": "markdown",
   "metadata": {},
   "source": [
    "#  -------- Section 3 ----------\n",
    "\n",
    "**Goals:**\n",
    "- Create a summary of the article by using a 'cutoff' score of most frequent tokens\n",
    "- Create a summary of the article by using a 'cutoff' score of most frequent lemmas\n",
    "- Perform sentiment analysis of the summaries\n",
    "- Compare summaries produced."
   ]
  },
  {
   "cell_type": "markdown",
   "metadata": {},
   "source": [
    "### Step 1: Create summary using tokens"
   ]
  },
  {
   "cell_type": "code",
   "execution_count": 12,
   "metadata": {},
   "outputs": [
    {
     "name": "stdout",
     "output_type": "stream",
     "text": [
      "Number of sentences in summary: 5\n",
      "A moving and entertaining superhero action movie that forges a bright new path for the Black Panther legacy. Like the first Black Panther movie, Black Panther: Wakanda Forever asks us to consider why and when vengeance is futile, and what the difference is between an antihero and an anti villain. While suffering from exhausting connections to the ever-expanding Marvel Cinematic Universe, Black Panther: You may not be ready for everything that Black Panther is going to throw at you. Overall, the film is solid with a few passages worth going to the theater for.\n"
     ]
    }
   ],
   "source": [
    "def sents_with_more_than_one_token(sentences, interesting_token):\n",
    "    unpacked_tokens = set()\n",
    "    for token, freq in interesting_token:\n",
    "        unpacked_tokens.add(token)\n",
    "    \n",
    "    list = []\n",
    "    for sentence in sentences:\n",
    "        count = 0\n",
    "        for token in sentence:\n",
    "            if token.lower_ in unpacked_tokens:\n",
    "                count += 1\n",
    "        if count > 1: \n",
    "            list.append(sentence)\n",
    "    return list\n",
    "\n",
    "sents = sents_with_more_than_one_token(sentences, word_freq.most_common(5))\n",
    "print(\"Number of sentences in summary:\", len(sents))\n",
    "\n",
    "# Remove white space\n",
    "sentences_no_blanks2 = [''.join(str(x).strip()) for x in sents if str(x) != '']\n",
    "\n",
    "# That did not remove all white space, so trying something more.\n",
    "white_space_removed = []\n",
    "for sent in sentences_no_blanks2:\n",
    "    white_space_removed.append(sent.replace(\"\\n\", \"\"))\n",
    "\n",
    "final_summary_token = ' '.join(str(x) for x in white_space_removed)\n",
    "        \n",
    "print(final_summary_token)"
   ]
  },
  {
   "cell_type": "markdown",
   "metadata": {},
   "source": [
    "### Step 2: Perform sentiment analysis on summary using tokens"
   ]
  },
  {
   "cell_type": "code",
   "execution_count": 13,
   "metadata": {},
   "outputs": [
    {
     "name": "stdout",
     "output_type": "stream",
     "text": [
      "Polarity: 0.04429590017825311\n"
     ]
    }
   ],
   "source": [
    "# Sentiment analysis\n",
    "\n",
    "nlp = spacy.load('en_core_web_sm')\n",
    "nlp.add_pipe('spacytextblob')\n",
    "doc = nlp(final_summary_token)\n",
    "print(f'Polarity: {doc._.polarity}')"
   ]
  },
  {
   "cell_type": "markdown",
   "metadata": {},
   "source": [
    "### Step 3: Create summary using lemmas"
   ]
  },
  {
   "cell_type": "code",
   "execution_count": 14,
   "metadata": {},
   "outputs": [
    {
     "name": "stdout",
     "output_type": "stream",
     "text": [
      "Number of sentences in summary: 6\n",
      "A moving and entertaining superhero action movie that forges a bright new path for the Black Panther legacy. Like the first Black Panther movie, Black Panther: Wakanda Forever asks us to consider why and when vengeance is futile, and what the difference is between an antihero and an anti villain. While suffering from exhausting connections to the ever-expanding Marvel Cinematic Universe, Black Panther: You may not be ready for everything that Black Panther is going to throw at you. Overall, the film is solid with a few passages worth going to the theater for. This was a heavy film that has a lot of deep meaning and themes that might go over the general audience's head.\n"
     ]
    }
   ],
   "source": [
    "def sents_with_more_than_one_lemma(sentences, interesting_lemmas):\n",
    "    unpacked_lemmas = set()\n",
    "    for lemma, freq in interesting_lemmas:\n",
    "        unpacked_lemmas.add(lemma)\n",
    "    \n",
    "    list = []\n",
    "    for sentence in sentences:\n",
    "        count = 0\n",
    "        for token in sentence:\n",
    "            if token.lemma_.lower() in unpacked_lemmas:\n",
    "                count += 1\n",
    "        if count > 1: \n",
    "            list.append(sentence)\n",
    "    return list\n",
    "\n",
    "sents_lemma = sents_with_more_than_one_lemma(sentences, lemma_freq.most_common(5))\n",
    "print(\"Number of sentences in summary:\", len(sents_lemma))\n",
    "\n",
    "# Remove white space\n",
    "sentences_no_blanks_lemmas = [''.join(str(x).strip()) for x in sents_lemma if str(x) != '']\n",
    "\n",
    "\n",
    "# That did not remove all white space, so trying something more.\n",
    "white_space_removed_lemmas = []\n",
    "for sent in sentences_no_blanks_lemmas:\n",
    "    white_space_removed_lemmas.append(sent.replace(\"\\n\", \"\"))\n",
    "\n",
    "final_summary_lemmas = ' '.join(str(x) for x in white_space_removed_lemmas)\n",
    "\n",
    "print(final_summary_lemmas)"
   ]
  },
  {
   "cell_type": "markdown",
   "metadata": {},
   "source": [
    "### Step 4: Perform sentiment analysis on summary using lemmas"
   ]
  },
  {
   "cell_type": "code",
   "execution_count": 15,
   "metadata": {},
   "outputs": [
    {
     "name": "stdout",
     "output_type": "stream",
     "text": [
      "Polarity: 0.03015151515151515\n"
     ]
    }
   ],
   "source": [
    "# Sentiment analysis\n",
    "\n",
    "nlp = spacy.load('en_core_web_sm')\n",
    "nlp.add_pipe('spacytextblob')\n",
    "doc = nlp(final_summary_lemmas)\n",
    "print(f'Polarity: {doc._.polarity}')"
   ]
  },
  {
   "cell_type": "markdown",
   "metadata": {},
   "source": [
    "### Step 5: Compare summaries."
   ]
  },
  {
   "cell_type": "markdown",
   "metadata": {},
   "source": [
    "Similarities and differences between two summaries produced:\n",
    "- Both summaries contain very similar material; however, the summary produced with lemmas contains an extra sentence.\n",
    "- Both summaries have similar polarity scores; however, the summary produced with tokens appears to be slightly more positive in nature.\n",
    "- The summary produced with tokens has a polarity score closer to the score of the original article reviews."
   ]
  },
  {
   "cell_type": "markdown",
   "metadata": {},
   "source": [
    "#### Polarity score of original article:\n",
    "- Polarity: 0.17849099099099106\n",
    "\n",
    "#### Polarity score of summary using tokens:\n",
    "- Polarity: 0.04429590017825311\n",
    "\n",
    "#### Polarity score of summary using lemmas:\n",
    "- Polarity: 0.03015151515151515"
   ]
  }
 ],
 "metadata": {
  "kernelspec": {
   "display_name": "Python 3 (ipykernel)",
   "language": "python",
   "name": "python3"
  },
  "language_info": {
   "codemirror_mode": {
    "name": "ipython",
    "version": 3
   },
   "file_extension": ".py",
   "mimetype": "text/x-python",
   "name": "python",
   "nbconvert_exporter": "python",
   "pygments_lexer": "ipython3",
   "version": "3.10.6"
  }
 },
 "nbformat": 4,
 "nbformat_minor": 4
}
